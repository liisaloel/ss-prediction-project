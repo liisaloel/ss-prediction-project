{
  "cells": [
    {
      "cell_type": "markdown",
      "metadata": {
        "id": "3UVMwVF0ehm7"
      },
      "source": [
        "# Loading modules"
      ]
    },
    {
      "cell_type": "code",
      "execution_count": 1,
      "metadata": {},
      "outputs": [
        {
          "name": "stdout",
          "output_type": "stream",
          "text": [
            "WARNING:tensorflow:From c:\\Users\\liisa\\anaconda3\\Lib\\site-packages\\keras\\src\\losses.py:2976: The name tf.losses.sparse_softmax_cross_entropy is deprecated. Please use tf.compat.v1.losses.sparse_softmax_cross_entropy instead.\n",
            "\n"
          ]
        }
      ],
      "source": [
        "# Import necessary modules\n",
        "import numpy as np\n",
        "import tensorflow as tf\n",
        "from tensorflow import keras\n",
        "import matplotlib.pyplot as plt\n",
        "from sklearn.metrics import accuracy_score, f1_score"
      ]
    },
    {
      "cell_type": "markdown",
      "metadata": {
        "id": "JGjplVqweg9Z"
      },
      "source": [
        "# Functions for parsing, formatting and encoding data"
      ]
    },
    {
      "cell_type": "code",
      "execution_count": 2,
      "metadata": {
        "id": "xp7T9Yga4nw2"
      },
      "outputs": [],
      "source": [
        "def parse_pssm(pssm_filename):\n",
        "  amino_acids = 'ACDEFGHIKLMNPQRSTVWY'\n",
        "  num_aas = len(amino_acids)\n",
        "  sequence = ''\n",
        "  profile = []\n",
        "\n",
        "  # Parsing MSA frequences from a PSSM file \n",
        "  with open(pssm_filename) as pssm:\n",
        "    pssm_lines = pssm.readlines()\n",
        "    for line in pssm_lines[3:-6]:                 # First iterates over lines\n",
        "      profile_line = []\n",
        "      for n in line.rstrip().split()[22:-2]:      # Then over n in line \n",
        "        profile_line.append(float(n)/100)         # Converts the values to a scale of 0 to 1\n",
        "      profile.append(profile_line)\n",
        "      sequence += line[6]                         # Fetches the protein sequence: every 6th character in given line n\n",
        "\n",
        "  # One-hot encoding the protein sequence\n",
        "  encoding = np.zeros((len(sequence), num_aas))   # Initialises a 2D array of zeros\n",
        "  for i, aa in enumerate(sequence):               # Returns an iterator that produces tuples containing both the index and aa\n",
        "    if aa in amino_acids:\n",
        "      index = amino_acids.index(aa)               # Finds corresponding index in aa string \n",
        "      encoding[i, index] = 1                      # 0 is replaced with 1 in the array, at position: seq index x aa string index\n",
        "    else: encoding[i, :] = 0.05                   # If aa not found in file, fill the entire row with 0.05 to represent unknown/invalid aa\n",
        "\n",
        "  return encoding, profile\n",
        "\n",
        "\n",
        "# Parsing the DSSP labels\n",
        "def parse_dssp(dssp_filename):\n",
        "\tss = ''\n",
        "\twith open(dssp_filename) as dssp:\n",
        "\t\tdssp.readline()\n",
        "\t\tss = dssp.readline().rstrip()\n",
        "\treturn ss"
      ]
    },
    {
      "cell_type": "markdown",
      "metadata": {},
      "source": [
        "# Function for fetching appropriate data"
      ]
    },
    {
      "cell_type": "code",
      "execution_count": 3,
      "metadata": {},
      "outputs": [],
      "source": [
        "def fetch_data(window, cv=False, train=True):\n",
        "  ss_map = {'H':[1,0,0], 'E':[0,1,0], 'C':[0,0,1], '-':[0,0,1]}\n",
        "\n",
        "  # Make sure that window is an odd integer\n",
        "  assert type(window) == int, 'Error: window must be an integer!'\n",
        "  assert window%2!=0, 'Error: window must be an ODD integer!'\n",
        "\n",
        "\n",
        "  # Selecting which data to fetch (training or blind test) and loading the right list of ids\n",
        "  if not cv:\n",
        "    path = 'C:/Users/liisa/OneDrive/Dokumendid/ROOTSI/SU/Bioinformatics/Project/protein-ss-pred-master/data/blindTest/'\n",
        "    id_list = [line.rstrip() for line in open(path+'list.txt')]\n",
        "    print ('Test data is obtained:')\n",
        "  else:\n",
        "    cv = str(cv)\n",
        "    path = 'C:/Users/liisa/OneDrive/Dokumendid/ROOTSI/SU/Bioinformatics/Project/protein-ss-pred-master/data/training/'\n",
        "    if train:\n",
        "      id_list = [line.rstrip() for line in open(path+'/cv/train'+cv+'.txt')]           # Using list comprehension to store train set id-s\n",
        "      print ('Train partition of cross-validation set {} is obtained:'.format(cv))\n",
        "    else:\n",
        "      id_list = [line.rstrip() for line in open(path+'/cv/test'+cv+'.txt')]\n",
        "      print ('Test partition of cross-validation set {} is obtained:'.format(cv))\n",
        "\n",
        "  X, Y = [], []\n",
        "  for id in id_list:\n",
        "    # Fetching the input features\n",
        "    id = id.replace(\":\", \"_\")\n",
        "    sequence, profile = np.array(parse_pssm(path+'/pssm/'+id+'.pssm'))                 # sequence = one-hot encoded sequence\n",
        "    x = np.concatenate((sequence, profile), axis=-1)                        \n",
        " \n",
        "    # Fetching, encoding labels, storing in array y\n",
        "    ss = parse_dssp(path+'/dssp/'+id+'.dssp')\n",
        "    y = np.array([ss_map[c] for c in ss])\n",
        "\n",
        "    # Adding (window-1)/2 padding on both sequence sides\n",
        "    # Creating windows for first and last positions\n",
        "    side = int((window-1)/2)\n",
        "    x_pad = np.zeros((side, 40))\n",
        "    x = np.concatenate((x_pad, x, x_pad), axis=0)\n",
        "\n",
        "    # Extracting all windows:\n",
        "    # For each index i in the range from side to len(x)-side-1, it creates a window centered at position i\n",
        "    # Each window is extracted as a subarray of x from index i-side to i+side+1\n",
        "    X += [x[i-side:i+side+1,:] for i in range(side, len(x)-side-1)]                   \n",
        "    Y += [y[i,:] for i in range(len(y))]                                              # Corresponding labels for Y\n",
        "    X.append(x[-2*side-1:,:])                                                         # Extracts a window of size 2*side+1 from beginning of sequence and appends to X\n",
        "\n",
        "  return np.array(X), np.array(Y)"
      ]
    },
    {
      "cell_type": "markdown",
      "metadata": {
        "id": "rYlIbZ5FfC3h"
      },
      "source": [
        "# Declaring a neural network"
      ]
    },
    {
      "cell_type": "code",
      "execution_count": 4,
      "metadata": {},
      "outputs": [
        {
          "name": "stdout",
          "output_type": "stream",
          "text": [
            "WARNING:tensorflow:From c:\\Users\\liisa\\anaconda3\\Lib\\site-packages\\keras\\src\\backend.py:1398: The name tf.executing_eagerly_outside_functions is deprecated. Please use tf.compat.v1.executing_eagerly_outside_functions instead.\n",
            "\n",
            "Model: \"sequential\"\n",
            "_________________________________________________________________\n",
            " Layer (type)                Output Shape              Param #   \n",
            "=================================================================\n",
            " flatten (Flatten)           (None, 680)               0         \n",
            "                                                                 \n",
            " dense (Dense)               (None, 256)               174336    \n",
            "                                                                 \n",
            " batch_normalization (Batch  (None, 256)               1024      \n",
            " Normalization)                                                  \n",
            "                                                                 \n",
            " dropout (Dropout)           (None, 256)               0         \n",
            "                                                                 \n",
            " dense_1 (Dense)             (None, 128)               32896     \n",
            "                                                                 \n",
            " batch_normalization_1 (Bat  (None, 128)               512       \n",
            " chNormalization)                                                \n",
            "                                                                 \n",
            " dropout_1 (Dropout)         (None, 128)               0         \n",
            "                                                                 \n",
            " dense_2 (Dense)             (None, 64)                8256      \n",
            "                                                                 \n",
            " batch_normalization_2 (Bat  (None, 64)                256       \n",
            " chNormalization)                                                \n",
            "                                                                 \n",
            " dropout_2 (Dropout)         (None, 64)                0         \n",
            "                                                                 \n",
            " dense_3 (Dense)             (None, 32)                2080      \n",
            "                                                                 \n",
            " batch_normalization_3 (Bat  (None, 32)                128       \n",
            " chNormalization)                                                \n",
            "                                                                 \n",
            " dropout_3 (Dropout)         (None, 32)                0         \n",
            "                                                                 \n",
            " dense_4 (Dense)             (None, 3)                 99        \n",
            "                                                                 \n",
            "=================================================================\n",
            "Total params: 219587 (857.76 KB)\n",
            "Trainable params: 218627 (854.01 KB)\n",
            "Non-trainable params: 960 (3.75 KB)\n",
            "_________________________________________________________________\n",
            "WARNING:tensorflow:From c:\\Users\\liisa\\anaconda3\\Lib\\site-packages\\keras\\src\\optimizers\\__init__.py:309: The name tf.train.Optimizer is deprecated. Please use tf.compat.v1.train.Optimizer instead.\n",
            "\n"
          ]
        }
      ],
      "source": [
        "window = 17\n",
        "input_shape = (window, 40)\n",
        "num_classes = 3\n",
        "\n",
        "model = keras.Sequential([\n",
        "        keras.Input(shape=input_shape),\n",
        "        keras.layers.Flatten(),\n",
        "        keras.layers.Dense(256, activation=\"leaky_relu\"),\n",
        "        keras.layers.BatchNormalization(),\n",
        "        keras.layers.Dropout(0.3),\n",
        "        keras.layers.Dense(128, activation=\"leaky_relu\"),\n",
        "        keras.layers.BatchNormalization(),\n",
        "        keras.layers.Dropout(0.5),\n",
        "        keras.layers.Dense(64, activation=\"relu\"),\n",
        "        keras.layers.BatchNormalization(),\n",
        "        keras.layers.Dropout(0.5),\n",
        "        keras.layers.Dense(32, activation=\"relu\"),\n",
        "        keras.layers.BatchNormalization(),\n",
        "        keras.layers.Dropout(0.2),\n",
        "        keras.layers.Dense(num_classes, activation='softmax')\n",
        "    ])\n",
        "\n",
        "model.summary() \n",
        "model.compile(optimizer='adam',\n",
        "                  loss='categorical_crossentropy',\n",
        "                  metrics=['accuracy'])"
      ]
    },
    {
      "cell_type": "markdown",
      "metadata": {
        "id": "E5PA_WpVexzO"
      },
      "source": [
        "# Fetching data and training the model"
      ]
    },
    {
      "cell_type": "code",
      "execution_count": 5,
      "metadata": {
        "colab": {
          "base_uri": "https://localhost:8080/"
        },
        "id": "ds6JWBFpUSrv",
        "outputId": "0b0a5297-6f93-4eae-a179-37d4a3c64b1e"
      },
      "outputs": [
        {
          "name": "stdout",
          "output_type": "stream",
          "text": [
            "Train partition of cross-validation set 1 is obtained:\n",
            "(157415, 17, 40) (157415, 3)\n",
            "Test partition of cross-validation set 1 is obtained:\n",
            "(40729, 17, 40) (40729, 3)\n",
            "Epoch 1/10\n",
            "WARNING:tensorflow:From c:\\Users\\liisa\\anaconda3\\Lib\\site-packages\\keras\\src\\utils\\tf_utils.py:492: The name tf.ragged.RaggedTensorValue is deprecated. Please use tf.compat.v1.ragged.RaggedTensorValue instead.\n",
            "\n",
            "WARNING:tensorflow:From c:\\Users\\liisa\\anaconda3\\Lib\\site-packages\\keras\\src\\engine\\base_layer_utils.py:384: The name tf.executing_eagerly_outside_functions is deprecated. Please use tf.compat.v1.executing_eagerly_outside_functions instead.\n",
            "\n",
            "277/277 [==============================] - 4s 9ms/step - loss: 0.9808 - accuracy: 0.5592 - val_loss: 0.7208 - val_accuracy: 0.6999\n",
            "Epoch 2/10\n",
            "277/277 [==============================] - 2s 8ms/step - loss: 0.7611 - accuracy: 0.6810 - val_loss: 0.6671 - val_accuracy: 0.7252\n",
            "Epoch 3/10\n",
            "277/277 [==============================] - 2s 8ms/step - loss: 0.7276 - accuracy: 0.6994 - val_loss: 0.6551 - val_accuracy: 0.7323\n",
            "Epoch 4/10\n",
            "277/277 [==============================] - 2s 9ms/step - loss: 0.7044 - accuracy: 0.7114 - val_loss: 0.6370 - val_accuracy: 0.7400\n",
            "Epoch 5/10\n",
            "277/277 [==============================] - 2s 8ms/step - loss: 0.6809 - accuracy: 0.7223 - val_loss: 0.6148 - val_accuracy: 0.7501\n",
            "Epoch 6/10\n",
            "277/277 [==============================] - 2s 8ms/step - loss: 0.6581 - accuracy: 0.7316 - val_loss: 0.5980 - val_accuracy: 0.7592\n",
            "Epoch 7/10\n",
            "277/277 [==============================] - 2s 9ms/step - loss: 0.6400 - accuracy: 0.7402 - val_loss: 0.5900 - val_accuracy: 0.7580\n",
            "Epoch 8/10\n",
            "277/277 [==============================] - 2s 9ms/step - loss: 0.6239 - accuracy: 0.7463 - val_loss: 0.5794 - val_accuracy: 0.7627\n",
            "Epoch 9/10\n",
            "277/277 [==============================] - 2s 9ms/step - loss: 0.6098 - accuracy: 0.7533 - val_loss: 0.5777 - val_accuracy: 0.7653\n",
            "Epoch 10/10\n",
            "277/277 [==============================] - 2s 9ms/step - loss: 0.6002 - accuracy: 0.7567 - val_loss: 0.5702 - val_accuracy: 0.7663\n",
            "1273/1273 [==============================] - 1s 1ms/step - loss: 0.5991 - accuracy: 0.7521\n",
            "Fold 1: Loss = 0.6, Accuracy = 0.75\n",
            "Train partition of cross-validation set 2 is obtained:\n",
            "(158838, 17, 40) (158838, 3)\n",
            "Test partition of cross-validation set 2 is obtained:\n",
            "(39306, 17, 40) (39306, 3)\n",
            "Epoch 1/10\n",
            "280/280 [==============================] - 3s 9ms/step - loss: 0.6074 - accuracy: 0.7544 - val_loss: 0.5632 - val_accuracy: 0.7679\n",
            "Epoch 2/10\n",
            "280/280 [==============================] - 2s 9ms/step - loss: 0.5932 - accuracy: 0.7614 - val_loss: 0.5597 - val_accuracy: 0.7685\n",
            "Epoch 3/10\n",
            "280/280 [==============================] - 2s 9ms/step - loss: 0.5836 - accuracy: 0.7646 - val_loss: 0.5571 - val_accuracy: 0.7728\n",
            "Epoch 4/10\n",
            "280/280 [==============================] - 2s 9ms/step - loss: 0.5753 - accuracy: 0.7684 - val_loss: 0.5579 - val_accuracy: 0.7717\n",
            "Epoch 5/10\n",
            "280/280 [==============================] - 2s 9ms/step - loss: 0.5672 - accuracy: 0.7724 - val_loss: 0.5556 - val_accuracy: 0.7749\n",
            "Epoch 6/10\n",
            "280/280 [==============================] - 2s 9ms/step - loss: 0.5597 - accuracy: 0.7760 - val_loss: 0.5580 - val_accuracy: 0.7731\n",
            "Epoch 7/10\n",
            "280/280 [==============================] - 3s 9ms/step - loss: 0.5517 - accuracy: 0.7783 - val_loss: 0.5563 - val_accuracy: 0.7731\n",
            "Epoch 8/10\n",
            "280/280 [==============================] - 2s 9ms/step - loss: 0.5469 - accuracy: 0.7804 - val_loss: 0.5574 - val_accuracy: 0.7711\n",
            "Epoch 9/10\n",
            "280/280 [==============================] - 2s 9ms/step - loss: 0.5419 - accuracy: 0.7830 - val_loss: 0.5563 - val_accuracy: 0.7732\n",
            "Epoch 10/10\n",
            "280/280 [==============================] - 2s 9ms/step - loss: 0.5342 - accuracy: 0.7857 - val_loss: 0.5590 - val_accuracy: 0.7706\n",
            "1229/1229 [==============================] - 1s 1ms/step - loss: 0.5516 - accuracy: 0.7707\n",
            "Fold 2: Loss = 0.55, Accuracy = 0.77\n",
            "Train partition of cross-validation set 3 is obtained:\n",
            "(158463, 17, 40) (158463, 3)\n",
            "Test partition of cross-validation set 3 is obtained:\n",
            "(39681, 17, 40) (39681, 3)\n",
            "Epoch 1/10\n",
            "279/279 [==============================] - 3s 9ms/step - loss: 0.5503 - accuracy: 0.7796 - val_loss: 0.5516 - val_accuracy: 0.7743\n",
            "Epoch 2/10\n",
            "279/279 [==============================] - 3s 9ms/step - loss: 0.5382 - accuracy: 0.7860 - val_loss: 0.5486 - val_accuracy: 0.7780\n",
            "Epoch 3/10\n",
            "279/279 [==============================] - 3s 9ms/step - loss: 0.5298 - accuracy: 0.7873 - val_loss: 0.5514 - val_accuracy: 0.7753\n",
            "Epoch 4/10\n",
            "279/279 [==============================] - 2s 9ms/step - loss: 0.5245 - accuracy: 0.7906 - val_loss: 0.5490 - val_accuracy: 0.7762\n",
            "Epoch 5/10\n",
            "279/279 [==============================] - 2s 9ms/step - loss: 0.5192 - accuracy: 0.7923 - val_loss: 0.5498 - val_accuracy: 0.7737\n",
            "Epoch 6/10\n",
            "279/279 [==============================] - 2s 9ms/step - loss: 0.5141 - accuracy: 0.7934 - val_loss: 0.5508 - val_accuracy: 0.7744\n",
            "Epoch 7/10\n",
            "279/279 [==============================] - 2s 9ms/step - loss: 0.5105 - accuracy: 0.7955 - val_loss: 0.5497 - val_accuracy: 0.7757\n",
            "Epoch 8/10\n",
            "279/279 [==============================] - 2s 9ms/step - loss: 0.5040 - accuracy: 0.7985 - val_loss: 0.5518 - val_accuracy: 0.7777\n",
            "Epoch 9/10\n",
            "279/279 [==============================] - 3s 9ms/step - loss: 0.5007 - accuracy: 0.8005 - val_loss: 0.5555 - val_accuracy: 0.7723\n",
            "Epoch 10/10\n",
            "279/279 [==============================] - 2s 9ms/step - loss: 0.4976 - accuracy: 0.8005 - val_loss: 0.5526 - val_accuracy: 0.7728\n",
            "1241/1241 [==============================] - 1s 1ms/step - loss: 0.5286 - accuracy: 0.7848\n",
            "Fold 3: Loss = 0.53, Accuracy = 0.78\n",
            "Train partition of cross-validation set 4 is obtained:\n",
            "(159359, 17, 40) (159359, 3)\n",
            "Test partition of cross-validation set 4 is obtained:\n",
            "(38785, 17, 40) (38785, 3)\n",
            "Epoch 1/10\n",
            "281/281 [==============================] - 3s 9ms/step - loss: 0.5235 - accuracy: 0.7907 - val_loss: 0.5354 - val_accuracy: 0.7829\n",
            "Epoch 2/10\n",
            "281/281 [==============================] - 2s 9ms/step - loss: 0.5147 - accuracy: 0.7949 - val_loss: 0.5356 - val_accuracy: 0.7831\n",
            "Epoch 3/10\n",
            "281/281 [==============================] - 3s 9ms/step - loss: 0.5090 - accuracy: 0.7963 - val_loss: 0.5359 - val_accuracy: 0.7853\n",
            "Epoch 4/10\n",
            "281/281 [==============================] - 2s 9ms/step - loss: 0.5044 - accuracy: 0.7987 - val_loss: 0.5421 - val_accuracy: 0.7816\n",
            "Epoch 5/10\n",
            "281/281 [==============================] - 2s 9ms/step - loss: 0.5016 - accuracy: 0.7993 - val_loss: 0.5371 - val_accuracy: 0.7813\n",
            "Epoch 6/10\n",
            "281/281 [==============================] - 2s 9ms/step - loss: 0.4964 - accuracy: 0.8007 - val_loss: 0.5401 - val_accuracy: 0.7834\n",
            "Epoch 7/10\n",
            "281/281 [==============================] - 2s 9ms/step - loss: 0.4935 - accuracy: 0.8023 - val_loss: 0.5406 - val_accuracy: 0.7820\n",
            "Epoch 8/10\n",
            "281/281 [==============================] - 2s 9ms/step - loss: 0.4916 - accuracy: 0.8043 - val_loss: 0.5468 - val_accuracy: 0.7817\n",
            "Epoch 9/10\n",
            "281/281 [==============================] - 2s 9ms/step - loss: 0.4872 - accuracy: 0.8059 - val_loss: 0.5441 - val_accuracy: 0.7787\n",
            "Epoch 10/10\n",
            "281/281 [==============================] - 2s 9ms/step - loss: 0.4856 - accuracy: 0.8058 - val_loss: 0.5449 - val_accuracy: 0.7797\n",
            "1213/1213 [==============================] - 1s 1ms/step - loss: 0.4783 - accuracy: 0.8053\n",
            "Fold 4: Loss = 0.48, Accuracy = 0.81\n",
            "Train partition of cross-validation set 5 is obtained:\n",
            "(158501, 17, 40) (158501, 3)\n",
            "Test partition of cross-validation set 5 is obtained:\n",
            "(39643, 17, 40) (39643, 3)\n",
            "Epoch 1/10\n",
            "279/279 [==============================] - 3s 9ms/step - loss: 0.5049 - accuracy: 0.7977 - val_loss: 0.5365 - val_accuracy: 0.7812\n",
            "Epoch 2/10\n",
            "279/279 [==============================] - 2s 9ms/step - loss: 0.4972 - accuracy: 0.8008 - val_loss: 0.5395 - val_accuracy: 0.7813\n",
            "Epoch 3/10\n",
            "279/279 [==============================] - 2s 9ms/step - loss: 0.4932 - accuracy: 0.8024 - val_loss: 0.5392 - val_accuracy: 0.7845\n",
            "Epoch 4/10\n",
            "279/279 [==============================] - 2s 9ms/step - loss: 0.4893 - accuracy: 0.8043 - val_loss: 0.5440 - val_accuracy: 0.7793\n",
            "Epoch 5/10\n",
            "279/279 [==============================] - 2s 9ms/step - loss: 0.4833 - accuracy: 0.8063 - val_loss: 0.5416 - val_accuracy: 0.7808\n",
            "Epoch 6/10\n",
            "279/279 [==============================] - 2s 9ms/step - loss: 0.4810 - accuracy: 0.8081 - val_loss: 0.5419 - val_accuracy: 0.7818\n",
            "Epoch 7/10\n",
            "279/279 [==============================] - 2s 9ms/step - loss: 0.4774 - accuracy: 0.8093 - val_loss: 0.5440 - val_accuracy: 0.7783\n",
            "Epoch 8/10\n",
            "279/279 [==============================] - 2s 9ms/step - loss: 0.4760 - accuracy: 0.8101 - val_loss: 0.5456 - val_accuracy: 0.7789\n",
            "Epoch 9/10\n",
            "279/279 [==============================] - 2s 9ms/step - loss: 0.4710 - accuracy: 0.8121 - val_loss: 0.5421 - val_accuracy: 0.7813\n",
            "Epoch 10/10\n",
            "279/279 [==============================] - 2s 9ms/step - loss: 0.4671 - accuracy: 0.8126 - val_loss: 0.5443 - val_accuracy: 0.7801\n",
            "1239/1239 [==============================] - 1s 1ms/step - loss: 0.4562 - accuracy: 0.8161\n",
            "Fold 5: Loss = 0.46, Accuracy = 0.82\n"
          ]
        }
      ],
      "source": [
        "models = []\n",
        "train_accuracies = []\n",
        "val_accuracies = []\n",
        "\n",
        "for fold in range(1, 6):\n",
        "    # Loading training and testing data for the current fold\n",
        "    x_train, y_train = fetch_data(window, cv=fold, train=True)\n",
        "    print(x_train.shape, y_train.shape)\n",
        "    x_test, y_test = fetch_data(window, cv=fold, train=False)\n",
        "    print(x_test.shape, y_test.shape)\n",
        "\n",
        "    # Training model on the training data\n",
        "    history = model.fit(x_train, y_train, epochs=10, batch_size=512, validation_split=0.1)\n",
        "    \n",
        "    train_accuracy = history.history['accuracy']\n",
        "    val_accuracy = history.history['val_accuracy']\n",
        "    train_accuracies.append(train_accuracy)\n",
        "    val_accuracies.append(val_accuracy)\n",
        "\n",
        "    # Evaluating model on the testing data\n",
        "    loss, accuracy = model.evaluate(x_test, y_test)\n",
        "    models.append(model)\n",
        "    \n",
        "    print(\"Fold {0}: Loss = {1}, Accuracy = {2}\".format(fold, round(loss,2), round(accuracy,2)))"
      ]
    },
    {
      "cell_type": "markdown",
      "metadata": {},
      "source": [
        "# Plotting the best model's accuracy"
      ]
    },
    {
      "cell_type": "code",
      "execution_count": 6,
      "metadata": {},
      "outputs": [
        {
          "name": "stderr",
          "output_type": "stream",
          "text": [
            "c:\\Users\\liisa\\anaconda3\\Lib\\site-packages\\keras\\src\\engine\\training.py:3103: UserWarning: You are saving your model as an HDF5 file via `model.save()`. This file format is considered legacy. We recommend using instead the native Keras format, e.g. `model.save('my_model.keras')`.\n",
            "  saving_api.save_model(\n"
          ]
        },
        {
          "data": {
            "text/plain": [
              "<matplotlib.legend.Legend at 0x171657ce750>"
            ]
          },
          "execution_count": 6,
          "metadata": {},
          "output_type": "execute_result"
        },
        {
          "data": {
            "image/png": "[encoded data removed]",
            "text/plain": [
              "<Figure size 1000x700 with 1 Axes>"
            ]
          },
          "metadata": {},
          "output_type": "display_data"
        }
      ],
      "source": [
        "trained_model = models[4]\n",
        "trained_model.save('C:/Users/liisa/OneDrive/Dokumendid/ROOTSI/SU/Bioinformatics/Project/trained_FCNN.h5')\n",
        "\n",
        "plt.figure(figsize=(10, 7))\n",
        "plt.plot(train_accuracies[4], label=\"Training Accuracy\", linestyle='--', color=\"mediumaquamarine\")\n",
        "plt.plot(val_accuracies[4], label=\"Validation Accuracy\", color=\"mediumslateblue\")\n",
        "plt.ylim(0.74, 0.83)\n",
        "\n",
        "plt.title('Model Accuracy')\n",
        "plt.xlabel('Epochs')\n",
        "plt.ylabel('Accuracy')\n",
        "plt.legend()"
      ]
    },
    {
      "cell_type": "markdown",
      "metadata": {
        "id": "mOrk_Vu4fJFP"
      },
      "source": [
        "# Fetching blind test data, using fitted model to get predictions, and evaluating prediction metrics"
      ]
    },
    {
      "cell_type": "code",
      "execution_count": 7,
      "metadata": {
        "colab": {
          "base_uri": "https://localhost:8080/"
        },
        "id": "R7ryTi-JX3fG",
        "outputId": "44127463-1157-4dc7-8f7d-f96e4df98a47"
      },
      "outputs": [
        {
          "name": "stdout",
          "output_type": "stream",
          "text": [
            "Test data is obtained:\n",
            "(62136, 17, 40) (62136, 3)\n"
          ]
        }
      ],
      "source": [
        "x_blind_test, y_blind_test = fetch_data(window, cv=False, train=False)\n",
        "print(x_blind_test.shape, y_blind_test.shape)"
      ]
    },
    {
      "cell_type": "code",
      "execution_count": 8,
      "metadata": {},
      "outputs": [
        {
          "name": "stdout",
          "output_type": "stream",
          "text": [
            "1942/1942 [==============================] - 2s 1ms/step\n",
            "Accuracy:  0.75\n",
            "Secondary Structure: H, F1-score = 0.79\n",
            "Secondary Structure: E, F1-score = 0.7\n",
            "Secondary Structure: C, F1-score = 0.74\n"
          ]
        }
      ],
      "source": [
        "predictions = trained_model.predict(x_blind_test)\n",
        "\n",
        "# Reporting model's accuracy\n",
        "print(\"Accuracy: \", round(accuracy_score(np.argmax(y_blind_test, axis=1), np.argmax(predictions, axis=1)),2))\n",
        "\n",
        "# Converting one-hot encoded labels back to categorical labels\n",
        "y_blind_test_cat = np.argmax(y_blind_test, axis=1)\n",
        "predictions_cat = np.argmax(predictions, axis=1)\n",
        "\n",
        "# Calculating F1 score for each class\n",
        "F1_scores = f1_score(y_blind_test_cat, predictions_cat, average=None)\n",
        "\n",
        "ss_labels = ['H', 'E', 'C']\n",
        "# F1 scores for each ss type\n",
        "for label, score in zip(ss_labels, F1_scores):\n",
        "    print(\"Secondary Structure: {0}, F1-score = {1}\".format(label,round(score,2)))"
      ]
    }
  ],
  "metadata": {
    "colab": {
      "provenance": []
    },
    "kernelspec": {
      "display_name": "Python 3",
      "name": "python3"
    },
    "language_info": {
      "codemirror_mode": {
        "name": "ipython",
        "version": 3
      },
      "file_extension": ".py",
      "mimetype": "text/x-python",
      "name": "python",
      "nbconvert_exporter": "python",
      "pygments_lexer": "ipython3",
      "version": "3.11.5"
    }
  },
  "nbformat": 4,
  "nbformat_minor": 0
}
