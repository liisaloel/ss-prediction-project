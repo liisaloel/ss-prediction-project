{
  "cells": [
    {
      "cell_type": "markdown",
      "metadata": {
        "id": "view-in-github",
        "colab_type": "text"
      },
      "source": [
        "<a href=\"https://colab.research.google.com/github/liisaloel/ss-prediction-project/blob/main/notebooks/Prediction_Nb_LL.ipynb\" target=\"_parent\"><img src=\"https://colab.research.google.com/assets/colab-badge.svg\" alt=\"Open In Colab\"/></a>"
      ]
    },
    {
      "cell_type": "markdown",
      "source": [
        "# **Protein Secondary Structure Prediction Program**"
      ],
      "metadata": {
        "id": "TMRTsaK6pBJH"
      }
    },
    {
      "cell_type": "code",
      "source": [
        "# @title Run this cell to import necessary data from GitHub repository\n",
        "!git clone https://github.com/liisaloel/ss-prediction-project.git"
      ],
      "metadata": {
        "cellView": "form",
        "id": "TH_nYoMBlBNs"
      },
      "execution_count": null,
      "outputs": []
    },
    {
      "cell_type": "code",
      "source": [
        "# @title Run this cell to input a pssm file\n",
        "# @markdown Click on 'Upload' to input a .pssm file for prediction:\n",
        "from ipywidgets import FileUpload\n",
        "upload_button = FileUpload()\n",
        "display(upload_button)"
      ],
      "metadata": {
        "cellView": "form",
        "id": "UCXMAnBvnFMl"
      },
      "execution_count": null,
      "outputs": []
    },
    {
      "cell_type": "code",
      "execution_count": null,
      "metadata": {
        "id": "Bsf0aX4PjD7d",
        "cellView": "form"
      },
      "outputs": [],
      "source": [
        "# @title Hit \"Run\" to make the prediction\n",
        "# @markdown Information about the prediction program:\n",
        "\n",
        "# @markdown To prepare the sequence data for prediction, your uploaded .pssm file will be processed.\n",
        "\n",
        "# @markdown MSA frequency values will be converted to a consistent scale of 0 to 1 to create a sequence profile, while the protein sequence will be one-hot encoded. The sequence and profile will be used to form a secondary structure prediction.\n",
        "\n",
        "# @markdown The prediction algorithm uses the sliding window method and padding is added to ensure consistent data coverage. The default window size used for the model was 17; input a new window size to change it (or input 17 to have the default):\n",
        "window_size = 17 # @param {type:\"integer\"}\n",
        "\n",
        "# @markdown The model used for secondary structure prediction is a fully connected neural network, which is previously trained, validated and imported for use. The accuracy of the prediction model is 75%.\n",
        "\n",
        "# @markdown Three state secondary structure prediction will be provided as following:\n",
        "# @markdown   - H for alpha helix,\n",
        "# @markdown   - E for beta sheet,\n",
        "# @markdown   - C for coil.\n",
        "\n",
        "\n",
        "# @markdown The code used for handling data, creating, training and validating the model can be found in the following GitHub repository: https://github.com/liisaloel/ss-prediction-project.git , in notebook Project_Notebook.ipynb.\n",
        "\n",
        "# Import necessary libraries\n",
        "import numpy as np\n",
        "import tensorflow as tf\n",
        "from tensorflow import keras\n",
        "from IPython.display import display\n",
        "from ipywidgets import FileUpload\n",
        "\n",
        "\n",
        "def parse_pssm(pssm_file):\n",
        "  amino_acids = 'ACDEFGHIKLMNPQRSTVWY'\n",
        "  num_aas = len(amino_acids)\n",
        "  sequence = ''\n",
        "  profile = []\n",
        "\n",
        "  # Parsing MSA frequences from a PSSM file\n",
        "  pssm_lines = pssm_file.decode('utf-8').split('\\n')\n",
        "  for line in pssm_lines[3:-7]:                 # Iterates over lines\n",
        "    profile_line = []\n",
        "    profile_line = [float(n) / 100 for n in line.rstrip().split()[22:-2]]     # Converts the values to a scale of 0 to 1\n",
        "    profile.append(profile_line)\n",
        "    if len(line) > 6:                           # Check if the line has enough characters\n",
        "      sequence += line[6]                       # Fetches the protein sequence: every 6th character in given line n\n",
        "\n",
        "  # One-hot encoding the protein sequence\n",
        "  encoding = np.zeros((len(sequence), num_aas))   # Initialises a 2D array of zeros\n",
        "  for i, aa in enumerate(sequence):               # Returns an iterator that produces tuples containing both the index and aa\n",
        "    if aa in amino_acids:\n",
        "      index = amino_acids.index(aa)               # Finds corresponding index at aa string\n",
        "      encoding[i, index] = 1                      # 0 is replaced with 1 in the array, at position: seq index x aa string index\n",
        "    else: encoding[i, :] = 0.05                   # If aa not found in file, fill the entire row with 0.05 to represent unknown/invalid aa\n",
        "\n",
        "  return encoding, profile\n",
        "\n",
        "\n",
        "def predict_ss():\n",
        "    uploaded_file = next(iter(upload_button.value))\n",
        "    data = upload_button.value[uploaded_file]['content']\n",
        "    file_type = uploaded_file.split('.')[-1]\n",
        "    X = []\n",
        "\n",
        "    if file_type == 'pssm':\n",
        "        # Processing the uploaded PSSM file\n",
        "        sequence, profile = np.asarray(parse_pssm(data))\n",
        "        x = np.concatenate((sequence, profile), axis=-1)\n",
        "        side = int((window_size-1)/2)\n",
        "        x_pad = np.zeros((side, 40))\n",
        "        x = np.concatenate((x_pad, np.concatenate((sequence, profile), axis=-1), x_pad), axis=0)\n",
        "\n",
        "        # Extracting all windows\n",
        "        X = [x[i-side:i+side+1,:] for i in range(side, len(x)-side-1)]\n",
        "        X.append(x[-2*side-1:,:])\n",
        "\n",
        "        # Converting to numpy array\n",
        "        X = np.array(X)\n",
        "\n",
        "        # Making predictions using the loaded model\n",
        "        prediction = model.predict(X)\n",
        "\n",
        "        # Decoding the output\n",
        "        prediction_cat = np.argmax(prediction, axis=1)\n",
        "        ss_labels = ['H', 'E', 'C']\n",
        "        predicted_ss = [ss_labels[i] for i in prediction_cat]\n",
        "        predicted_ss = \"\".join(predicted_ss)\n",
        "\n",
        "        print(\"Predicted secondary structure:\")\n",
        "        print(predicted_ss)\n",
        "    else:\n",
        "        print(\"Please upload a .pssm file.\")\n",
        "\n",
        "\n",
        "# Loading the trained model\n",
        "model_path = '/content/ss-prediction-project/trained_FCNN.h5'\n",
        "model = keras.models.load_model(model_path)\n",
        "\n",
        "# Fn will be called automatically to handle the uploaded file\n",
        "upload_button.observe(predict_ss, names=['value'])\n",
        "predict_ss()"
      ]
    }
  ],
  "metadata": {
    "language_info": {
      "name": "python"
    },
    "colab": {
      "provenance": [],
      "gpuType": "T4",
      "include_colab_link": true
    },
    "kernelspec": {
      "name": "python3",
      "display_name": "Python 3"
    }
  },
  "nbformat": 4,
  "nbformat_minor": 0
}