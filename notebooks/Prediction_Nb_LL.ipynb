{
  "cells": [
    {
      "cell_type": "markdown",
      "metadata": {
        "id": "view-in-github",
        "colab_type": "text"
      },
      "source": [
        "<a href=\"https://colab.research.google.com/github/liisaloel/ss-prediction-project/blob/main/notebooks/Prediction_Nb_LL.ipynb\" target=\"_parent\"><img src=\"https://colab.research.google.com/assets/colab-badge.svg\" alt=\"Open In Colab\"/></a>"
      ]
    },
    {
      "cell_type": "markdown",
      "source": [
        "# **Protein Secondary Structure Prediction Program**"
      ],
      "metadata": {
        "id": "TMRTsaK6pBJH"
      }
    },
    {
      "cell_type": "code",
      "source": [
        "# @title Run this cell to import necessary data from GitHub repository\n",
        "!git clone https://github.com/liisaloel/ss-prediction-project.git"
      ],
      "metadata": {
        "cellView": "form",
        "id": "TH_nYoMBlBNs",
        "colab": {
          "base_uri": "https://localhost:8080/"
        },
        "outputId": "862aa4e1-12fc-4a2f-df00-314b412a0045"
      },
      "execution_count": null,
      "outputs": [
        {
          "output_type": "stream",
          "name": "stdout",
          "text": [
            "Cloning into 'ss-prediction-project'...\n",
            "remote: Enumerating objects: 3094, done.\u001b[K\n",
            "remote: Counting objects: 100% (3094/3094), done.\u001b[K\n",
            "remote: Compressing objects: 100% (2533/2533), done.\u001b[K\n",
            "remote: Total 3094 (delta 546), reused 3083 (delta 541), pack-reused 0\u001b[K\n",
            "Receiving objects: 100% (3094/3094), 15.79 MiB | 14.14 MiB/s, done.\n",
            "Resolving deltas: 100% (546/546), done.\n"
          ]
        }
      ]
    },
    {
      "cell_type": "code",
      "source": [
        "# @title Run this cell to input a pssm file\n",
        "# @markdown Click on 'Upload' to input a .pssm file for prediction:\n",
        "from ipywidgets import FileUpload\n",
        "upload_button = FileUpload()\n",
        "display(upload_button)"
      ],
      "metadata": {
        "colab": {
          "base_uri": "https://localhost:8080/",
          "height": 49,
          "referenced_widgets": [
            "4f938167e14e40a7a93b82934b08a0f4",
            "359252a6d47a4ca0abc54b157e980c80",
            "77f9f1ffc65f4bf8bdabc57ec83c7acc"
          ]
        },
        "cellView": "form",
        "id": "UCXMAnBvnFMl",
        "outputId": "665da2f7-1841-4045-aa03-5c44d51691b0"
      },
      "execution_count": 30,
      "outputs": [
        {
          "output_type": "display_data",
          "data": {
            "text/plain": [
              "FileUpload(value={}, description='Upload')"
            ],
            "application/vnd.jupyter.widget-view+json": {
              "version_major": 2,
              "version_minor": 0,
              "model_id": "4f938167e14e40a7a93b82934b08a0f4"
            }
          },
          "metadata": {}
        }
      ]
    },
    {
      "cell_type": "code",
      "execution_count": 33,
      "metadata": {
        "id": "Bsf0aX4PjD7d",
        "colab": {
          "base_uri": "https://localhost:8080/"
        },
        "outputId": "6fa52efc-e805-4b63-92e9-9305204acece",
        "cellView": "form"
      },
      "outputs": [
        {
          "output_type": "stream",
          "name": "stdout",
          "text": [
            "9/9 [==============================] - 0s 3ms/step\n",
            "Predicted secondary structure:\n",
            "CCCEEEEEECCCCCCCECCCHEHEHEHHCCCCEEEEEEEEEECCCCCCCECCEEECCCHHHHHHHHHHHCCCCCCECEEEHCCCCCHHHHHHHHHHHHHHHCCCCEEEEECCCCCCCCCEECCCHHHHHHHHHCCHCEEECCCHHHHHHHHCCCCCCHHHHHHHHHHHHHCCCCEEEEEECCCCCCEEECCEHCCCCCCCCCEEECCEEECCCCCCCHHHHHHHHHHHHCCCCHHHHHHHHHHHHHHHHHHCCCCCHHHHHHCCCCHCCCCHHEHHHHHHHHHHCCC\n"
          ]
        }
      ],
      "source": [
        "# @title Hit \"Run\" to make the prediction\n",
        "# @markdown Information about the prediction program:\n",
        "\n",
        "# @markdown To prepare the sequence data for prediction, your uploaded .pssm file will be processed.\n",
        "\n",
        "# @markdown MSA frequency values will be converted to a consistent scale of 0 to 1 to create a sequence profile, while the protein sequence itself will be one-hot encoded. The sequence and profile will be analyzed together to form a secondary structure prediction.\n",
        "\n",
        "# @markdown The prediction algorithm uses the sliding window method and padding is added to ensure consistent data coverage. The default window size used for the model was 17; input a new window size to change it (or input 17 to have the default):\n",
        "window_size = 17 # @param {type:\"integer\"}\n",
        "\n",
        "# @markdown The model used for secondary structure prediction is a fully connected neural network, which is previously trained, validated and imported for use. The accuracy of the prediction model is 75%.\n",
        "\n",
        "# @markdown Three state secondary structure prediction will be provided as following:\n",
        "# @markdown   - H for alpha helix,\n",
        "# @markdown   - E for beta sheet,\n",
        "# @markdown   - C for coil.\n",
        "\n",
        "\n",
        "# @markdown The code used for parsing data, creating, training and validating the model can be found in following GitHub repository: https://github.com/liisaloel/ss-prediction-project.git , in notebook Project_Notebook.ipynb.\n",
        "\n",
        "# Import necessary libraries\n",
        "import numpy as np\n",
        "import tensorflow as tf\n",
        "from tensorflow import keras\n",
        "from IPython.display import display\n",
        "from ipywidgets import FileUpload\n",
        "\n",
        "\n",
        "def parse_pssm(pssm_file):\n",
        "  amino_acids = 'ACDEFGHIKLMNPQRSTVWY'\n",
        "  num_aas = len(amino_acids)\n",
        "  sequence = ''\n",
        "  profile = []\n",
        "\n",
        "  # Parsing MSA frequences from a PSSM file\n",
        "  pssm_lines = pssm_file.decode('utf-8').split('\\n')\n",
        "  for line in pssm_lines[3:-7]:                 # Iterates over lines\n",
        "    profile_line = []\n",
        "    profile_line = [float(n) / 100 for n in line.rstrip().split()[22:-2]]     # Converts the values to a scale of 0 to 1\n",
        "    profile.append(profile_line)\n",
        "    if len(line) > 6:                           # Check if the line has enough characters\n",
        "      sequence += line[6]                       # Fetches the protein sequence: every 6th character in given line n\n",
        "\n",
        "  # One-hot encoding the protein sequence\n",
        "  encoding = np.zeros((len(sequence), num_aas))   # Initialises a 2D array of zeros\n",
        "  for i, aa in enumerate(sequence):               # Returns an iterator that produces tuples containing both the index and aa\n",
        "    if aa in amino_acids:\n",
        "      index = amino_acids.index(aa)               # Finds corresponding index at aa string\n",
        "      encoding[i, index] = 1                      # 0 is replaced with 1 in the array, at position: seq index x aa string index\n",
        "    else: encoding[i, :] = 0.05                   # If aa not found in file, fill the entire row with 0.05 to represent unknown/invalid aa\n",
        "\n",
        "  return encoding, profile\n",
        "\n",
        "\n",
        "def predict_ss():\n",
        "    uploaded_file = next(iter(upload_button.value))\n",
        "    data = upload_button.value[uploaded_file]['content']\n",
        "    file_type = uploaded_file.split('.')[-1]\n",
        "    X = []\n",
        "\n",
        "    if file_type == 'pssm':\n",
        "        # Processing the uploaded PSSM file\n",
        "        sequence, profile = np.asarray(parse_pssm(data))\n",
        "        x = np.concatenate((sequence, profile), axis=-1)\n",
        "        side = int((window_size-1)/2)\n",
        "        x_pad = np.zeros((side, 40))\n",
        "        x = np.concatenate((x_pad, np.concatenate((sequence, profile), axis=-1), x_pad), axis=0)\n",
        "\n",
        "        # Extracting all windows\n",
        "        X = [x[i-side:i+side+1,:] for i in range(side, len(x)-side-1)]\n",
        "        X.append(x[-2*side-1:,:])\n",
        "\n",
        "        # Converting to numpy array\n",
        "        X = np.array(X)\n",
        "\n",
        "        # Making predictions using the loaded model\n",
        "        prediction = model.predict(X)\n",
        "\n",
        "        # Decoding the output\n",
        "        prediction_cat = np.argmax(prediction, axis=1)\n",
        "        ss_labels = ['H', 'E', 'C']\n",
        "        predicted_ss = [ss_labels[i] for i in prediction_cat]\n",
        "        predicted_ss = \"\".join(predicted_ss)\n",
        "\n",
        "        print(\"Predicted secondary structure:\")\n",
        "        print(predicted_ss)\n",
        "    else:\n",
        "        print(\"Please upload a .pssm file.\")\n",
        "\n",
        "\n",
        "# Loading the trained model\n",
        "model_path = '/content/ss-prediction-project/trained_FCNN.h5'\n",
        "model = keras.models.load_model(model_path)\n",
        "\n",
        "# Fn will be called automatically to handle the uploaded file\n",
        "upload_button.observe(predict_ss, names=['value'])\n",
        "predict_ss()"
      ]
    }
  ],
  "metadata": {
    "language_info": {
      "name": "python"
    },
    "colab": {
      "provenance": [],
      "gpuType": "T4",
      "include_colab_link": true
    },
    "kernelspec": {
      "name": "python3",
      "display_name": "Python 3"
    },
    "widgets": {
      "application/vnd.jupyter.widget-state+json": {
        "4f938167e14e40a7a93b82934b08a0f4": {
          "model_module": "@jupyter-widgets/controls",
          "model_name": "FileUploadModel",
          "model_module_version": "1.5.0",
          "state": {
            "_counter": 1,
            "_dom_classes": [],
            "_model_module": "@jupyter-widgets/controls",
            "_model_module_version": "1.5.0",
            "_model_name": "FileUploadModel",
            "_view_count": null,
            "_view_module": "@jupyter-widgets/controls",
            "_view_module_version": "1.5.0",
            "_view_name": "FileUploadView",
            "accept": "",
            "button_style": "",
            "data": [
              null
            ],
            "description": "Upload",
            "description_tooltip": null,
            "disabled": false,
            "error": "",
            "icon": "upload",
            "layout": "IPY_MODEL_359252a6d47a4ca0abc54b157e980c80",
            "metadata": [
              {
                "name": "4S1H_A.pssm",
                "type": "",
                "size": 52779,
                "lastModified": 1710269241154
              }
            ],
            "multiple": false,
            "style": "IPY_MODEL_77f9f1ffc65f4bf8bdabc57ec83c7acc"
          }
        },
        "359252a6d47a4ca0abc54b157e980c80": {
          "model_module": "@jupyter-widgets/base",
          "model_name": "LayoutModel",
          "model_module_version": "1.2.0",
          "state": {
            "_model_module": "@jupyter-widgets/base",
            "_model_module_version": "1.2.0",
            "_model_name": "LayoutModel",
            "_view_count": null,
            "_view_module": "@jupyter-widgets/base",
            "_view_module_version": "1.2.0",
            "_view_name": "LayoutView",
            "align_content": null,
            "align_items": null,
            "align_self": null,
            "border": null,
            "bottom": null,
            "display": null,
            "flex": null,
            "flex_flow": null,
            "grid_area": null,
            "grid_auto_columns": null,
            "grid_auto_flow": null,
            "grid_auto_rows": null,
            "grid_column": null,
            "grid_gap": null,
            "grid_row": null,
            "grid_template_areas": null,
            "grid_template_columns": null,
            "grid_template_rows": null,
            "height": null,
            "justify_content": null,
            "justify_items": null,
            "left": null,
            "margin": null,
            "max_height": null,
            "max_width": null,
            "min_height": null,
            "min_width": null,
            "object_fit": null,
            "object_position": null,
            "order": null,
            "overflow": null,
            "overflow_x": null,
            "overflow_y": null,
            "padding": null,
            "right": null,
            "top": null,
            "visibility": null,
            "width": null
          }
        },
        "77f9f1ffc65f4bf8bdabc57ec83c7acc": {
          "model_module": "@jupyter-widgets/controls",
          "model_name": "ButtonStyleModel",
          "model_module_version": "1.5.0",
          "state": {
            "_model_module": "@jupyter-widgets/controls",
            "_model_module_version": "1.5.0",
            "_model_name": "ButtonStyleModel",
            "_view_count": null,
            "_view_module": "@jupyter-widgets/base",
            "_view_module_version": "1.2.0",
            "_view_name": "StyleView",
            "button_color": null,
            "font_weight": ""
          }
        }
      }
    }
  },
  "nbformat": 4,
  "nbformat_minor": 0
}